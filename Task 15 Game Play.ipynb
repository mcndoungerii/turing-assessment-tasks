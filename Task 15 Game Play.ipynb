{
 "cells": [
  {
   "cell_type": "markdown",
   "id": "a6fee28d",
   "metadata": {},
   "source": [
    "## Task 2 Prompt\n",
    "\n",
    "There are $n$ ($n$ is even) players, conveniently labelled $1, 2, \\ldots n$. These players will play $m$ rounds of games. In each round of games, the players are split into two teams of $\\frac{n}{2}$ players each. Two players $x < y$ are said to have played against each other if they were on different teams for one of the $m$ games.\n",
    "\n",
    "### Task\n",
    "You are given three arguments: `n, m, games`. Your task is to check that for all pairs of players $1 \\leq x, y \\leq n$, player $x$ has played against $y$. `games` is a 2-dimensional list that represents the $m$ rounds of games among $n$ players.\n",
    "\n",
    "Write a function `check(n, m, games)` that takes in 3 arguments.\n",
    "\n",
    "### Inputs\n",
    "\n",
    "It is guaranteed that $n, m$ are integers and $1 \\leq n \\leq 20,000$, $1\\leq m \\leq 30$. It is also guaranteed that $n$ is even.\n",
    "\n",
    " `games` is a 2 dimensional list with `m` rows and `n` columns, where `games[i]` is a permutation of `1,2,3,...,n` representing round number $i$. In particular for round `i`, `games[i][0], games[i][1], games[i][n/2-1]` is on one team, `games[i][n/2], games[i][n/2+1], games[i][n-1]` is on the other team.\n",
    "\n",
    "### Outputs\n",
    "\n",
    "`check(n, m, games)` should return a boolean, True if and only if all pairs of players have played against each other in the $m$ rounds of games.\n",
    "\n",
    "### Examples\n",
    "\n",
    "`check(2, 1, [[1, 2]]) = True`\n",
    "\n",
    "`check(4, 2, [[1, 2, 3, 4], [4, 3, 1, 2]]) = False`\n",
    "\n",
    "`check(4, 2, [[1, 2, 3, 4], [1, 3, 2, 4]]) = True`\n",
    "\n",
    "`check(6, 6, [[1, 6, 3, 4, 5, 2], [6, 4, 2, 3, 1, 5], [4, 2, 1, 5, 6, 3], [4, 5, 1, 6, 2, 3], [3, 2, 5, 1, 6, 4], [2, 3, 6, 4, 1, 5]]) = True`\n",
    "\n",
    "`check(6, 6, [[3, 1, 4, 5, 6, 2], [5, 3, 2, 4, 1, 6], [5, 3, 6, 4, 2, 1], [6, 5, 3, 2, 1, 4], [5, 4, 1, 2, 6, 3], [4, 1, 6, 2, 5, 3]]) = False`"
   ]
  },
  {
   "cell_type": "code",
   "execution_count": 5,
   "id": "e63a46d4",
   "metadata": {},
   "outputs": [],
   "source": [
    "import itertools\n",
    "\n",
    "def check(n, m, games):\n",
    "    \n",
    "    pairs = list(x for x in itertools.combinations(list(range(1,n+1)),2) if x[0]<x[1])\n",
    "    status = True\n",
    "\n",
    "    for x in pairs:\n",
    "        pair_check = []\n",
    "        for y in games:\n",
    "            player_pairs = list(itertools.product(y[:int(len(y)/2)], y[int(len(y)/2):]))\n",
    "            pair_check.append(x in player_pairs)\n",
    "        u_pair_check = list(set(pair_check))\n",
    "        if len(u_pair_check)==1 and u_pair_check[0]==False:\n",
    "            status=False\n",
    "            break # breaking code here because if we found False there's no need to execute the code further\n",
    "    \n",
    "    return status"
   ]
  },
  {
   "cell_type": "code",
   "execution_count": 6,
   "id": "a080acae",
   "metadata": {},
   "outputs": [
    {
     "name": "stdout",
     "output_type": "stream",
     "text": [
      "True\n",
      "True\n",
      "True\n",
      "True\n",
      "True\n"
     ]
    }
   ],
   "source": [
    "print(check(2, 1, [[1, 2]]) == True)\n",
    "\n",
    "print(check(4, 2, [[1, 2, 3, 4], [4, 3, 1, 2]]) == False)\n",
    "\n",
    "print(check(4, 2, [[1, 2, 3, 4], [1, 3, 2, 4]]) == True)\n",
    "\n",
    "print(check(6, 6, [[1, 6, 3, 4, 5, 2], [6, 4, 2, 3, 1, 5], [4, 2, 1, 5, 6, 3], [4, 5, 1, 6, 2, 3], [3, 2, 5, 1, 6, 4], [2, 3, 6, 4, 1, 5]]) == True)\n",
    "\n",
    "print(check(6, 6, [[3, 1, 4, 5, 6, 2], [5, 3, 2, 4, 1, 6], [5, 3, 6, 4, 2, 1], [6, 5, 3, 2, 1, 4], [5, 4, 1, 2, 6, 3], [4, 1, 6, 2, 5, 3]]) == False)"
   ]
  },
  {
   "cell_type": "code",
   "execution_count": null,
   "id": "e759caef",
   "metadata": {},
   "outputs": [],
   "source": []
  },
  {
   "cell_type": "code",
   "execution_count": null,
   "id": "5203b9a4",
   "metadata": {},
   "outputs": [],
   "source": []
  }
 ],
 "metadata": {
  "kernelspec": {
   "display_name": "Python 3 (ipykernel)",
   "language": "python",
   "name": "python3"
  },
  "language_info": {
   "codemirror_mode": {
    "name": "ipython",
    "version": 3
   },
   "file_extension": ".py",
   "mimetype": "text/x-python",
   "name": "python",
   "nbconvert_exporter": "python",
   "pygments_lexer": "ipython3",
   "version": "3.10.4"
  }
 },
 "nbformat": 4,
 "nbformat_minor": 5
}
