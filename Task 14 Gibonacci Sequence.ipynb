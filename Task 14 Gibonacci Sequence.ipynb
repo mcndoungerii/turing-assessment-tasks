{
 "cells": [
  {
   "cell_type": "markdown",
   "id": "7c69dcd0",
   "metadata": {},
   "source": [
    "## Task 1 Prompt\n",
    "\n",
    "Have you heard of the fibonacci sequence? It is defined by $f_0 = 0, f_1 = 1$ and $f_n=f_{n-1}+ f_{n-2}$ for $n\\geq 2$.\n",
    "\n",
    "This question is about a similar sequence, called gibonacci sequence. It is defined by $g_0 = x, g_1 = y$ and $g_n=g_{n-1}- g_{n-2}$ for $n\\geq 2$. Different possible starting values of the gibonacci sequence may lead to different gibonacci sequences.\n",
    "\n",
    "### Task\n",
    "You are given three arguments: `n, x, y`. Your task is to find $g_n$ using the above definition of a gibonacci sequence starting with $g_0=x, g_1=y$\n",
    "\n",
    "Write a function `gibonacci(n, x, y)` that takes in 3 arguments.\n",
    "\n",
    "### Inputs\n",
    "\n",
    "It is guaranteed that $n,x,y$ are integers and $0 \\leq n,x,y \\leq 10^9$.\n",
    "\n",
    "### Outputs\n",
    "\n",
    "`gibonacci(n, x, y)` should return $g_n$ given that $g_0=x, g_1=y$.\n",
    "\n",
    "### Examples\n",
    "\n",
    "`gibonacci(0, 0, 1) = 0`\n",
    "\n",
    "`gibonacci(1, 0, 1) = 1`\n",
    "\n",
    "`gibonacci(2, 0, 1) = 1`\n",
    "\n",
    "`gibonacci(3, 0, 1) = 0`"
   ]
  },
  {
   "cell_type": "code",
   "execution_count": 4,
   "id": "16850fd8",
   "metadata": {},
   "outputs": [],
   "source": [
    "def gibonacci (n, x, y):\n",
    "    gibonacci_list = []\n",
    "    gibonacci_list.append(x) # append first element to the list\n",
    "    gibonacci_list.append(y) # append second element to the list\n",
    "    \n",
    "    # run while loop and check if we meet number of iteration based on len of list\n",
    "    while len(gibonacci_list)<=n:\n",
    "        \n",
    "        # here i'm picking last two elements of a list based on given condition similar to fibonacci series\n",
    "        gibonacci_list.append(gibonacci_list[-1]-gibonacci_list[-2])\n",
    "    \n",
    "    # return the last element of the list we created\n",
    "    return gibonacci_list[n]"
   ]
  },
  {
   "cell_type": "code",
   "execution_count": 5,
   "id": "7032a76e",
   "metadata": {},
   "outputs": [
    {
     "name": "stdout",
     "output_type": "stream",
     "text": [
      "True\n",
      "True\n",
      "True\n",
      "True\n"
     ]
    }
   ],
   "source": [
    "print(gibonacci(0, 0, 1) == 0)\n",
    "\n",
    "print(gibonacci(1, 0, 1) == 1)\n",
    "\n",
    "print(gibonacci(2, 0, 1) == 1)\n",
    "\n",
    "print(gibonacci(3, 0, 1) == 0)"
   ]
  },
  {
   "cell_type": "code",
   "execution_count": null,
   "id": "af16aaeb",
   "metadata": {},
   "outputs": [],
   "source": []
  }
 ],
 "metadata": {
  "kernelspec": {
   "display_name": "Python 3 (ipykernel)",
   "language": "python",
   "name": "python3"
  },
  "language_info": {
   "codemirror_mode": {
    "name": "ipython",
    "version": 3
   },
   "file_extension": ".py",
   "mimetype": "text/x-python",
   "name": "python",
   "nbconvert_exporter": "python",
   "pygments_lexer": "ipython3",
   "version": "3.10.4"
  }
 },
 "nbformat": 4,
 "nbformat_minor": 5
}
